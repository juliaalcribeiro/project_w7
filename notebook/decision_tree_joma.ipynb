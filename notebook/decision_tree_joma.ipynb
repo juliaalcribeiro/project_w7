{
 "cells": [
  {
   "cell_type": "code",
   "execution_count": null,
   "id": "04e7ebad-8d36-47ee-83ae-df66d80b8a21",
   "metadata": {},
   "outputs": [],
   "source": [
    "import yaml\n",
    " \n",
    "try:\n",
    "    with open(\"../config.yaml\", \"r\") as file:\n",
    "        config = yaml.safe_load(file)\n",
    "except:\n",
    "    print(\"Yaml configuration file not found!\")"
   ]
  },
  {
   "cell_type": "code",
   "execution_count": null,
   "id": "63e32849-dfc4-4068-963b-22a40ae701c6",
   "metadata": {},
   "outputs": [],
   "source": [
    "import pandas as pd\n",
    "\n",
    "df = pd.read_csv(config['input_data']['file'])\n",
    "df"
   ]
  },
  {
   "cell_type": "code",
   "execution_count": null,
   "id": "b9c5290f-1847-449b-aac9-d3e23c5c96d5",
   "metadata": {},
   "outputs": [],
   "source": [
    "df = df.drop(['PatientID', 'DoctorInCharge'], axis=1)"
   ]
  },
  {
   "cell_type": "code",
   "execution_count": null,
   "id": "b83e3e82-3b3f-4671-9255-1a2f7650bfb1",
   "metadata": {},
   "outputs": [],
   "source": [
    "df"
   ]
  },
  {
   "cell_type": "code",
   "execution_count": null,
   "id": "61e8955b-33ab-4268-975f-e3d9129ce253",
   "metadata": {},
   "outputs": [],
   "source": [
    "df.dtypes"
   ]
  },
  {
   "cell_type": "code",
   "execution_count": null,
   "id": "8816b5b2-9040-4094-ad50-d2e19fd86a88",
   "metadata": {},
   "outputs": [],
   "source": [
    "from sklearn.model_selection import train_test_split\n",
    "from sklearn.tree import DecisionTreeClassifier\n",
    "from sklearn.metrics import classification_report, confusion_matrix, accuracy_score\n",
    "from sklearn import tree\n",
    "import matplotlib.pyplot as plt"
   ]
  },
  {
   "cell_type": "code",
   "execution_count": null,
   "id": "c6ec8deb-4abf-4df7-b5de-232b02f8e945",
   "metadata": {},
   "outputs": [],
   "source": [
    "selected_features = [\n",
    "    'MemoryComplaints',\n",
    "    'BehavioralProblems',\n",
    "    'FunctionalAssessment',\n",
    "    'ADL',\n",
    "    'MMSE'\n",
    "]\n",
    "\n",
    "X = df[selected_features]\n",
    "y = df['Diagnosis']  # 0/1 for Alzheimer's"
   ]
  },
  {
   "cell_type": "code",
   "execution_count": null,
   "id": "7cd614b8-6326-43e5-8a15-1753eec33295",
   "metadata": {},
   "outputs": [],
   "source": [
    "# Split into train and test sets\n",
    "X_train, X_test, y_train, y_test = train_test_split(\n",
    "    X, y, test_size=0.2, random_state=42, stratify=y\n",
    ")\n",
    "\n",
    "# Initialize and train Decision Tree\n",
    "dtree = DecisionTreeClassifier(random_state=42, max_depth=5)  # max_depth optional\n",
    "dtree.fit(X_train, y_train)\n",
    "\n",
    "# Make predictions\n",
    "y_pred = dtree.predict(X_test)\n",
    "\n",
    "# Evaluate the model\n",
    "print(\"Accuracy:\", accuracy_score(y_test, y_pred))\n",
    "print(\"\\nConfusion Matrix:\\n\", confusion_matrix(y_test, y_pred))\n",
    "print(\"\\nClassification Report:\\n\", classification_report(y_test, y_pred))\n",
    "\n",
    "# Optional: Visualize the Decision Tree\n",
    "plt.figure(figsize=(16,10))\n",
    "tree.plot_tree(\n",
    "    dtree, \n",
    "    feature_names=selected_features, \n",
    "    class_names=['No Alzheimer', 'Alzheimer'], \n",
    "    filled=True, \n",
    "    rounded=True\n",
    ")\n",
    "plt.show()"
   ]
  },
  {
   "cell_type": "code",
   "execution_count": null,
   "id": "fb3fa186-64d1-4d3c-b76b-80dfa03b6166",
   "metadata": {},
   "outputs": [],
   "source": [
    "#check feature importance via:\n",
    "\n",
    "importances = pd.DataFrame({\n",
    "    'Feature': selected_features,\n",
    "    'Importance': dtree.feature_importances_\n",
    "})\n",
    "print(importances.sort_values(by='Importance', ascending=False))"
   ]
  }
 ],
 "metadata": {
  "kernelspec": {
   "display_name": "venv",
   "language": "python",
   "name": "venv"
  },
  "language_info": {
   "codemirror_mode": {
    "name": "ipython",
    "version": 3
   },
   "file_extension": ".py",
   "mimetype": "text/x-python",
   "name": "python",
   "nbconvert_exporter": "python",
   "pygments_lexer": "ipython3",
   "version": "3.11.5"
  }
 },
 "nbformat": 4,
 "nbformat_minor": 5
}
